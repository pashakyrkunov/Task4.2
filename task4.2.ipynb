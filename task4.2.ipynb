{
 "metadata": {
  "language_info": {
   "codemirror_mode": {
    "name": "ipython",
    "version": 3
   },
   "file_extension": ".py",
   "mimetype": "text/x-python",
   "name": "python",
   "nbconvert_exporter": "python",
   "pygments_lexer": "ipython3",
   "version": "3.8.5-final"
  },
  "orig_nbformat": 2,
  "kernelspec": {
   "name": "python3",
   "display_name": "Python 3",
   "language": "python"
  }
 },
 "nbformat": 4,
 "nbformat_minor": 2,
 "cells": [
  {
   "cell_type": "code",
   "execution_count": 1,
   "metadata": {
    "tags": []
   },
   "outputs": [],
   "source": [
    "import numpy as np\n",
    "import pandas as pd\n",
    "import random\n",
    "from random import randint"
   ]
  },
  {
   "cell_type": "code",
   "execution_count": 2,
   "metadata": {},
   "outputs": [],
   "source": [
    "INIT_POPULATION = 200"
   ]
  },
  {
   "cell_type": "code",
   "execution_count": 3,
   "metadata": {},
   "outputs": [],
   "source": [
    "df = pd.read_csv('16.txt', delimiter=' ')\n",
    "parameters = df.columns.tolist()\n",
    "df.columns = ['v', 'c']\n",
    "df['w'] = df.index\n",
    "data = df[['w','v','c']].values.tolist()\n",
    "data = pd.DataFrame.from_records(data, columns=['w','v','c'])\n",
    "W = int(parameters[0]) \n",
    "V = int(parameters[1]) \n",
    "genesCount = len(data) "
   ]
  },
  {
   "cell_type": "code",
   "execution_count": 4,
   "metadata": {},
   "outputs": [],
   "source": [
    "#создание начальной популяции\n",
    "def createInitialPopulation():\n",
    "    return [createIndividual() for _ in range(0, INIT_POPULATION)]"
   ]
  },
  {
   "cell_type": "code",
   "execution_count": 5,
   "metadata": {},
   "outputs": [],
   "source": [
    "#создание особи\n",
    "def createIndividual():\n",
    "    individual = []\n",
    "    for i in range(0, len(data)):\n",
    "        individual.append(0)\n",
    "    startIndex = randint(0, len(data) - 1)\n",
    "    sumWeight = 0\n",
    "    sumCapacity = 0\n",
    "    for i in range(startIndex, len(data)):\n",
    "        if (sumWeight + data.at[i,'w'] <= W) and (sumCapacity + data.at[i,'v'] <= V):\n",
    "            individual[i] = 1\n",
    "            sumWeight += data.at[i,'w']\n",
    "            sumCapacity += data.at[i,'v']\n",
    "    for i in range(0,startIndex):\n",
    "        if (sumWeight + data.at[i,'w'] <= W) and (sumCapacity + data.at[i,'v'] <= V):\n",
    "            individual[i] = 1\n",
    "            sumWeight += data.at[i,'w']\n",
    "            sumCapacity += data.at[i,'v']\n",
    "    return individual"
   ]
  },
  {
   "cell_type": "code",
   "execution_count": 6,
   "metadata": {},
   "outputs": [],
   "source": [
    "#стоимость особи\n",
    "def individualC(individual):\n",
    "    sumC = 0\n",
    "    for i in range(0, genesCount):\n",
    "        sumC += data.at[i,'c'] * individual[i]\n",
    "    return sumC"
   ]
  },
  {
   "cell_type": "code",
   "execution_count": 7,
   "metadata": {},
   "outputs": [],
   "source": [
    "#новая популяция\n",
    "def newPopulation(population, childs):\n",
    "    for individual in population:\n",
    "        individual.append(individualC(individual) * 0.9)\n",
    "    for child in childs:\n",
    "        child.append(individualC(child))\n",
    "    population.extend(childs)\n",
    "    population = list(filter(lambda x: validateWandV(x), population))\n",
    "    population.sort(key=lambda x: individualC(x), reverse=True)\n",
    "    population = population[0:200]\n",
    "    return population"
   ]
  },
  {
   "cell_type": "code",
   "execution_count": 8,
   "metadata": {},
   "outputs": [],
   "source": [
    "#новый ребенок\n",
    "def newChild(mom, dad):\n",
    "    child = []\n",
    "    mask = [randint(0, 1) for x in range(genesCount)]\n",
    "    for i in range(0, len(mask)):\n",
    "        if mask[i] == 1:\n",
    "            child.append(mom[i])\n",
    "        else:\n",
    "            child.append(dad[i])\n",
    "    return child"
   ]
  },
  {
   "cell_type": "code",
   "execution_count": 9,
   "metadata": {},
   "outputs": [],
   "source": [
    "#скрещивание\n",
    "def crossingover(population):\n",
    "    childs = []\n",
    "    while len(population) > 0:\n",
    "        random.shuffle(population)\n",
    "        mom = population.pop()\n",
    "        if len(population) == 0:\n",
    "            break\n",
    "        dad = population.pop()\n",
    "        child1 = newChild(mom, dad)\n",
    "        child2 = newChild(mom, dad)\n",
    "        if validateWandV(child1):\n",
    "            childs.append(child1)\n",
    "        if validateWandV(child2):\n",
    "            childs.append(child2)\n",
    "    return childs"
   ]
  },
  {
   "cell_type": "code",
   "execution_count": 10,
   "metadata": {},
   "outputs": [],
   "source": [
    "#селекция\n",
    "def selection(population):\n",
    "    res_individuals = []\n",
    "    individuals = [] \n",
    "    for i in range(len(population)):\n",
    "        individuals.append(individualC(population[i]))\n",
    "    \n",
    "    max_fitness = max(individuals)\n",
    "    min_fitness = min(individuals)\n",
    "\n",
    "    for m in range(len(individuals)):\n",
    "        if random.random() < individuals[m]/max_fitness:\n",
    "            res_individuals.append(population[m])\n",
    "    return res_individuals"
   ]
  },
  {
   "cell_type": "code",
   "execution_count": 11,
   "metadata": {},
   "outputs": [],
   "source": [
    "#проверка на вес\n",
    "def validateWandV(individual):\n",
    "    sumW = 0\n",
    "    sumV = 0\n",
    "    for i in range (0, genesCount):\n",
    "        sumW += data.at[i,'w'] * individual[i]\n",
    "        sumV += data.at[i,'v'] * individual[i]\n",
    "    if (sumW > W) or (sumV > V):\n",
    "        return 0\n",
    "    else: \n",
    "        return 1"
   ]
  },
  {
   "cell_type": "code",
   "execution_count": 12,
   "metadata": {},
   "outputs": [],
   "source": [
    "#мутация\n",
    "def mutation(individual):\n",
    "    for i in range(0, len(individual)):\n",
    "        if individual[i] == 0:\n",
    "            individual[i] = 1\n",
    "        else:\n",
    "            individual[i] = 0\n",
    "    return individual"
   ]
  },
  {
   "cell_type": "code",
   "execution_count": 13,
   "metadata": {},
   "outputs": [],
   "source": [
    "#генетический алгоритм\n",
    "def geneticAlgorithm():\n",
    "    c = []\n",
    "    Cpct = 0\n",
    "    for i in range (0, len(data)):\n",
    "        c.append(data.at[i,'c'])\n",
    "    for i in range (0, len(c)):\n",
    "        Cpct += c[i]\n",
    "    minC = min(c)\n",
    "    oldC = 0\n",
    "    newC = Cpct\n",
    "\n",
    "    MAX_ITERATION = 500\n",
    "    population = createInitialPopulation()\n",
    "\n",
    "    while MAX_ITERATION > 0:\n",
    "        #Отбор\n",
    "        population = selection(population)\n",
    "        #Скрещивание\n",
    "        childs = crossingover(population.copy())\n",
    "        #Мутация\n",
    "        rndIndividualInd = randint(0, len(population) - 1)\n",
    "        population[rndIndividualInd] = mutation(population[rndIndividualInd])\n",
    "        #Лучшая особь\n",
    "        population = newPopulation(population, childs)\n",
    "        bestIndividual = population[0]\n",
    "        MAX_ITERATION -= 1\n",
    "    return bestIndividual"
   ]
  },
  {
   "cell_type": "code",
   "execution_count": 14,
   "metadata": {},
   "outputs": [],
   "source": [
    "bestIndividual = geneticAlgorithm()\n",
    "\n",
    "sumW, sumV, sumC = 0, 0, 0\n",
    "result = []\n",
    "for i in range(genesCount):\n",
    "    sumW += bestIndividual[i] * data.at[i,'w']\n",
    "    sumV += bestIndividual[i] * data.at[i,'v']\n",
    "    sumC += bestIndividual[i] * data.at[i,'c']\n",
    "    if bestIndividual[i] == 1:\n",
    "        result.append([data.at[i,'w'], data.at[i,'v'], data.at[i,'c']])\n",
    "result_df = pd.DataFrame.from_records(result, columns=['w','v','c'])"
   ]
  },
  {
   "cell_type": "code",
   "execution_count": 15,
   "metadata": {},
   "outputs": [
    {
     "output_type": "stream",
     "name": "stdout",
     "text": [
      "         w    v      c\n0   1160.0  0.8  372.0\n1   1315.0  0.5  357.0\n2    558.0  1.0  371.0\n3   1139.0  1.0  288.0\n4    151.0  0.4  286.0\n5    774.0  0.6  171.0\n6   1599.0  1.0  317.0\n7    772.0  0.9  387.0\n8    704.0  0.8  317.0\n9   1372.0  0.8  239.0\n10   721.0  1.0  231.0\n11   976.0  0.6  300.0\n12   378.0  1.0  217.0\n13   823.0  0.9  367.0\n14   491.0  0.6  232.0\nВес: 12933.0\nОбъем: 11.9\nЦенность: 4452.0\n"
     ]
    }
   ],
   "source": [
    "print(result_df)\n",
    "print(\"Вес:\", sumW)\n",
    "print(\"Объем:\", round(sumV,1))\n",
    "print(\"Ценность:\", sumC)"
   ]
  },
  {
   "cell_type": "code",
   "execution_count": 16,
   "metadata": {},
   "outputs": [],
   "source": [
    "file=open('4.2res.txt','w', encoding='utf-8')\n",
    "file.write(result_df.to_string())\n",
    "file.write(\"\\nВес: \" + str(sumW))\n",
    "file.write(\"\\nОбъем: \" + str(round(sumV,1)))\n",
    "file.write(\"\\nЦенность: \" + str(sumC))\n",
    "file.close()"
   ]
  }
 ]
}